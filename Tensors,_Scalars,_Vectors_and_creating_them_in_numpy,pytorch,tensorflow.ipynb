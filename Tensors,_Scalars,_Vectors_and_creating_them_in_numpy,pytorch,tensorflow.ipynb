{
  "nbformat": 4,
  "nbformat_minor": 0,
  "metadata": {
    "colab": {
      "name": "Tensors, Scalars, Vectors and creating them in numpy,pytorch,tensorflow.ipynb",
      "provenance": [],
      "collapsed_sections": [],
      "authorship_tag": "ABX9TyMaXuBdsX56JKRFJ9OdrMJ0",
      "include_colab_link": true
    },
    "kernelspec": {
      "name": "python3",
      "display_name": "Python 3"
    },
    "language_info": {
      "name": "python"
    }
  },
  "cells": [
    {
      "cell_type": "markdown",
      "metadata": {
        "id": "view-in-github",
        "colab_type": "text"
      },
      "source": [
        "<a href=\"https://colab.research.google.com/github/karsakami/Math-for-Machine-Deep-Learning/blob/main/Tensors%2C_Scalars%2C_Vectors_and_creating_them_in_numpy%2Cpytorch%2Ctensorflow.ipynb\" target=\"_parent\"><img src=\"https://colab.research.google.com/assets/colab-badge.svg\" alt=\"Open In Colab\"/></a>"
      ]
    },
    {
      "cell_type": "markdown",
      "source": [
        "# <a name='a3'></a>**Tensors**\n",
        "## Tensor to nazwa ogólna dla macierzy\n",
        "\n",
        "### Scalar = [x] - skalar to tensor zero wymiarowy, po prostu pojedyncza liczba\n",
        "### vector = [x1, x2, x3] - vector to tensor jednowymiarowy\n",
        "### matrix - macierz 2x2 - tensor dwuwymiarowy "
      ],
      "metadata": {
        "id": "UGCEMr9Yy2mE"
      }
    },
    {
      "cell_type": "markdown",
      "source": [
        "# <a name='a4'></a>**Scalars**\n",
        "- no dimensions, single number"
      ],
      "metadata": {
        "id": "t_hGxWjby_ij"
      }
    },
    {
      "cell_type": "markdown",
      "source": [
        "###Tradycyjny skalar"
      ],
      "metadata": {
        "id": "XhAgQAM5zQDZ"
      }
    },
    {
      "cell_type": "code",
      "source": [
        "# scalar and arithmic operations\n",
        "x = 3\n",
        "y = 4\n",
        "\n",
        "sum_scalars = x + y\n",
        "\n",
        "print(sum_scalars)\n",
        "type(sum_scalars)"
      ],
      "metadata": {
        "colab": {
          "base_uri": "https://localhost:8080/"
        },
        "id": "A0SuO6JEy_-q",
        "outputId": "65d84d82-8149-40b7-ba84-1b822cdb9232"
      },
      "execution_count": 2,
      "outputs": [
        {
          "output_type": "stream",
          "name": "stdout",
          "text": [
            "7\n"
          ]
        },
        {
          "output_type": "execute_result",
          "data": {
            "text/plain": [
              "int"
            ]
          },
          "metadata": {},
          "execution_count": 2
        }
      ]
    },
    {
      "cell_type": "markdown",
      "source": [
        "###Skalar stworzony za pomoca pytorch"
      ],
      "metadata": {
        "id": "LI-s430GzU4C"
      }
    },
    {
      "cell_type": "code",
      "source": [
        "import torch\n",
        "\n",
        "x_pt = torch.tensor(3)\n",
        "x_pt.shape"
      ],
      "metadata": {
        "id": "Tcjmg5bezLmk",
        "colab": {
          "base_uri": "https://localhost:8080/"
        },
        "outputId": "6c64b8cf-e0e4-4a5f-9e52-ad4a2c993dee"
      },
      "execution_count": 3,
      "outputs": [
        {
          "output_type": "execute_result",
          "data": {
            "text/plain": [
              "torch.Size([])"
            ]
          },
          "metadata": {},
          "execution_count": 3
        }
      ]
    },
    {
      "cell_type": "markdown",
      "source": [
        "#Vector\n",
        "1 dimension tensor\n",
        "Every vector has index, by means of which we can refer to some of its value"
      ],
      "metadata": {
        "id": "p1rBJElEzaKv"
      }
    },
    {
      "cell_type": "code",
      "source": [
        "import numpy as np\n",
        "\n",
        "x = np.array([1,2,3,4,5,6])\n",
        "x[3]"
      ],
      "metadata": {
        "colab": {
          "base_uri": "https://localhost:8080/"
        },
        "id": "cLG2_ZP2zaxq",
        "outputId": "babb11dc-86c9-462b-b3a0-93e224069801"
      },
      "execution_count": 4,
      "outputs": [
        {
          "output_type": "execute_result",
          "data": {
            "text/plain": [
              "4"
            ]
          },
          "metadata": {},
          "execution_count": 4
        }
      ]
    },
    {
      "cell_type": "markdown",
      "source": [
        "Wektory mogą też reprezentować jakiś punkt w układzie współrzędnych, przestrzeni\n",
        "\n",
        "Moglibyśmiy mieć też wektor trójwymiary, jeśli miałby trzy wartości"
      ],
      "metadata": {
        "id": "jie1S7W5RCHp"
      }
    },
    {
      "cell_type": "code",
      "source": [
        "v1 = [5, 7, 9]\n",
        "\n",
        "import matplotlib.pyplot as plt\n",
        "\n",
        "ax, fig = plt.subplots()\n",
        "\n",
        "plt.title('Wykres vektorów')\n",
        "plt.xlabel('x1')\n",
        "plt.ylabel('x2')\n",
        "\n",
        "plt.axvline(x=v1[1], color='yellow', linestyle='--')\n",
        "plt.axhline(y=v1[2], color='yellow', linestyle='--')"
      ],
      "metadata": {
        "colab": {
          "base_uri": "https://localhost:8080/",
          "height": 312
        },
        "id": "zjcS31NORHJg",
        "outputId": "0945f901-faf2-40be-c3dc-54c86b53a3ea"
      },
      "execution_count": 1,
      "outputs": [
        {
          "output_type": "execute_result",
          "data": {
            "text/plain": [
              "<matplotlib.lines.Line2D at 0x7fd59b043790>"
            ]
          },
          "metadata": {},
          "execution_count": 1
        },
        {
          "output_type": "display_data",
          "data": {
            "text/plain": [
              "<Figure size 432x288 with 1 Axes>"
            ],
            "image/png": "[encoded data removed]"
          },
          "metadata": {
            "needs_background": "light"
          }
        }
      ]
    },
    {
      "cell_type": "markdown",
      "source": [
        "#Tworzenie i transponowanie wektorów\n",
        "Transpozycja wektorów - transponuje wektor z wierszowego na kolumnowy\n"
      ],
      "metadata": {
        "id": "IVGAqV4sTnqP"
      }
    },
    {
      "cell_type": "markdown",
      "source": [
        "Tworzenie"
      ],
      "metadata": {
        "id": "ROVmFfONVYFf"
      }
    },
    {
      "cell_type": "code",
      "source": [
        "import numpy as np\n",
        "x = np.array([[25,2,5]]) #tworzymy wektor z pomocą numpy\n",
        "x"
      ],
      "metadata": {
        "colab": {
          "base_uri": "https://localhost:8080/"
        },
        "id": "1rBMwRGpSBnh",
        "outputId": "5c11bfb6-de19-42a0-f3ac-e14b4c0cc39a"
      },
      "execution_count": 5,
      "outputs": [
        {
          "output_type": "execute_result",
          "data": {
            "text/plain": [
              "array([[25,  2,  5]])"
            ]
          },
          "metadata": {},
          "execution_count": 5
        }
      ]
    },
    {
      "cell_type": "code",
      "source": [
        "len(x) #sprawdzamy dlugosc wektora"
      ],
      "metadata": {
        "colab": {
          "base_uri": "https://localhost:8080/"
        },
        "id": "VubhauoJU2Z3",
        "outputId": "2bd60bd3-d38f-403e-eb0e-42dfb506a039"
      },
      "execution_count": 6,
      "outputs": [
        {
          "output_type": "execute_result",
          "data": {
            "text/plain": [
              "1"
            ]
          },
          "metadata": {},
          "execution_count": 6
        }
      ]
    },
    {
      "cell_type": "code",
      "source": [
        "x.shape #sprawdzamy wymiary wektora"
      ],
      "metadata": {
        "colab": {
          "base_uri": "https://localhost:8080/"
        },
        "id": "zOEDkFWEVACx",
        "outputId": "d979dd60-b2c4-4f96-9819-c9f3d254abda"
      },
      "execution_count": 7,
      "outputs": [
        {
          "output_type": "execute_result",
          "data": {
            "text/plain": [
              "(1, 3)"
            ]
          },
          "metadata": {},
          "execution_count": 7
        }
      ]
    },
    {
      "cell_type": "markdown",
      "source": [
        "Transponowanie"
      ],
      "metadata": {
        "id": "HQWv6HuvVZve"
      }
    },
    {
      "cell_type": "code",
      "source": [
        "x_t = x.T #tworzymy nowy wektor, ktory przechowuje wartosc wektora x, tyle ze transponowanego\n",
        "x_t"
      ],
      "metadata": {
        "colab": {
          "base_uri": "https://localhost:8080/"
        },
        "id": "mCFT6aB-VHie",
        "outputId": "f210011d-3e72-46ec-9789-fa4b2f2f3f99"
      },
      "execution_count": 8,
      "outputs": [
        {
          "output_type": "execute_result",
          "data": {
            "text/plain": [
              "array([[25],\n",
              "       [ 2],\n",
              "       [ 5]])"
            ]
          },
          "metadata": {},
          "execution_count": 8
        }
      ]
    },
    {
      "cell_type": "code",
      "source": [
        "x_t.shape #sprawdzamy wymiary nowego wektora"
      ],
      "metadata": {
        "colab": {
          "base_uri": "https://localhost:8080/"
        },
        "id": "SA0AppCsV_w_",
        "outputId": "6060b5ff-519c-49d0-dbb7-8b0316c64ea2"
      },
      "execution_count": 9,
      "outputs": [
        {
          "output_type": "execute_result",
          "data": {
            "text/plain": [
              "(3, 1)"
            ]
          },
          "metadata": {},
          "execution_count": 9
        }
      ]
    },
    {
      "cell_type": "markdown",
      "source": [
        "##Zero vectors\n",
        "To wektory które składają się z zer. Można stworzyć takiego za pomocą funkcji zeros z numpy"
      ],
      "metadata": {
        "id": "vdOcx9VdW_a9"
      }
    },
    {
      "cell_type": "code",
      "source": [
        "z = np.zeros(3)\n",
        "z"
      ],
      "metadata": {
        "colab": {
          "base_uri": "https://localhost:8080/"
        },
        "id": "7Ywpv2sSWjxq",
        "outputId": "8d747d07-7a8f-456a-e827-22486df2f118"
      },
      "execution_count": 10,
      "outputs": [
        {
          "output_type": "execute_result",
          "data": {
            "text/plain": [
              "array([0., 0., 0.])"
            ]
          },
          "metadata": {},
          "execution_count": 10
        }
      ]
    },
    {
      "cell_type": "markdown",
      "source": [
        "##Vectors in PyTorch and TensorFlow"
      ],
      "metadata": {
        "id": "Yy3bDSVQXWA-"
      }
    },
    {
      "cell_type": "code",
      "source": [
        "import torch\n",
        "\n",
        "x_pt = torch.tensor([25,2,5])\n",
        "x_pt"
      ],
      "metadata": {
        "colab": {
          "base_uri": "https://localhost:8080/"
        },
        "id": "2ODzYvLeXY9t",
        "outputId": "9672cd7e-765f-46e8-9526-27957f7b4ac2"
      },
      "execution_count": 11,
      "outputs": [
        {
          "output_type": "execute_result",
          "data": {
            "text/plain": [
              "tensor([25,  2,  5])"
            ]
          },
          "metadata": {},
          "execution_count": 11
        }
      ]
    },
    {
      "cell_type": "code",
      "source": [
        "import tensorflow as tf\n",
        "\n",
        "x_tf = tf.Variable([25,2,5])\n",
        "x_tf"
      ],
      "metadata": {
        "colab": {
          "base_uri": "https://localhost:8080/"
        },
        "id": "lNkioqMlfw2D",
        "outputId": "61740aa4-4d22-42c9-a168-24529867f8e2"
      },
      "execution_count": 12,
      "outputs": [
        {
          "output_type": "execute_result",
          "data": {
            "text/plain": [
              "<tf.Variable 'Variable:0' shape=(3,) dtype=int32, numpy=array([25,  2,  5], dtype=int32)>"
            ]
          },
          "metadata": {},
          "execution_count": 12
        }
      ]
    }
  ]
}