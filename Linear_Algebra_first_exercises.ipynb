{
  "nbformat": 4,
  "nbformat_minor": 0,
  "metadata": {
    "colab": {
      "name": "Linear Algebra first  exercises.ipynb",
      "provenance": [],
      "collapsed_sections": [],
      "authorship_tag": "ABX9TyOeOlSpWJ6LYJINpnlS6IvP",
      "include_colab_link": true
    },
    "kernelspec": {
      "name": "python3",
      "display_name": "Python 3"
    },
    "language_info": {
      "name": "python"
    }
  },
  "cells": [
    {
      "cell_type": "markdown",
      "metadata": {
        "id": "view-in-github",
        "colab_type": "text"
      },
      "source": [
        "<a href=\"https://colab.research.google.com/github/karsakami/Math-for-Machine-Deep-Learning/blob/main/Linear_Algebra_first_exercises.ipynb\" target=\"_parent\"><img src=\"https://colab.research.google.com/assets/colab-badge.svg\" alt=\"Open In Colab\"/></a>"
      ]
    },
    {
      "cell_type": "markdown",
      "source": [
        "### Spis treści:\n",
        "1. [What Linear Algebra Is](#a1)\n",
        "3. [Tensors](#a3)\n",
        "4. [Scalars](#a4)\n",
        "5. [Vectors and Vector Transposition](#a5)\n",
        "\n",
        "\n",
        "\n",
        "\n",
        "\n"
      ],
      "metadata": {
        "id": "0c-6c6dykM85"
      }
    },
    {
      "cell_type": "markdown",
      "source": [
        "\n",
        "\n",
        "---\n",
        "\n",
        "\n",
        "# <a name='a1'></a> **What Linear Algebra Is**\n",
        "\n",
        "##**Algebra** is topic of mathematics that includes non numerical entities like x\n",
        "\n",
        "Example:\n",
        "\n",
        "$2x + 5 = 25$\n",
        "\n",
        "$2x + 5 =5 = 25 - 5$\n",
        "\n",
        "$2x = 20$\n",
        "\n",
        "$2x:2 = 20:2$\n",
        "\n",
        "$x = 10$\n",
        "\n",
        "If it has an exponential term it is **not** linear algebra, eg:\n",
        "\n",
        "\n",
        "$2\\sqrt{x}+5=25$\n",
        "\n",
        "###Linear algebra is solving for unknowns within system of linear equations\n",
        "*Rozwiązywanie niewiadomych w układzie równań liniowych*\n"
      ],
      "metadata": {
        "id": "U59TVOMLlGPI"
      }
    },
    {
      "cell_type": "markdown",
      "source": [
        "---\n",
        "# **EXERCISE 1**\n",
        "### Mamy złodzieja który ucieka z prędkośćią **150 km/h** a policja próbuje dogonić poruszając się z prędkością **180 km/h**. Złodziej wyruszył 5 minut temu. Po jakim czasie szeryf go dogoni?\n",
        "\n",
        "###Mozemy rozwiązać problem algebraicznie, pierwszym przedstawiamy prędkość złodzieja a drugim policji\n",
        "$d = 2.5t$\n",
        "\n",
        "$d = 3(t-5)$\n",
        "\n",
        "Oba są równe d więc przyrównajmy je do siebie i obliczmy\n",
        "$2.5 = 3(t-5)$\n",
        "\n",
        "$2.5t = 3t-15$\n",
        "\n",
        "$2.5t - 3t = -15$\n",
        "\n",
        "$-0.5t = -15  | * (-2)$\n",
        "\n",
        "$ t = 30 $\n",
        "\n",
        "# Obliczylismy nasze t które możemy podstawić pod wzory u góry, czyli:\n",
        "\n",
        "$d = 2.5t = 2.5(30) = 75 km$\n",
        "\n",
        "$df = 3(t-5) = 3(30 - 5) = 3(25) = 75 km$\n",
        "\n",
        "W tym przypadku wszystko poszło dobrze ale gdyby obydwoje poruszali się z taką samą prędkością to nie byłoby rozwiązania tego problemu\n",
        "\n",
        "W algebrze liniowej są tylko 3 opcje: jedno rozwiązanie, brak lub nieskończoność rozwiązań \n",
        "\n",
        "W układzie równań może być:\n",
        "-wiele równań\n",
        "-wiele niewiadomych w pojedyńczym układzie"
      ],
      "metadata": {
        "id": "PuO_8eILSnST"
      }
    },
    {
      "cell_type": "markdown",
      "source": [
        "Plotowanie układu równań"
      ],
      "metadata": {
        "id": "0uFJn2PZCMlB"
      }
    },
    {
      "cell_type": "code",
      "source": [
        "# Spróbujmy zaimplementować ten problem w pythonie i rozwiązać go za pomocą regresji liniowej\n",
        "\n",
        "import numpy as np\n",
        "import matplotlib.pyplot as plt\n",
        "\n",
        "# Zacznijmy od zasymulowania naszego czasu \n",
        "t = np.linspace(0,40,1000)"
      ],
      "metadata": {
        "id": "aEjWCll0EQIU"
      },
      "execution_count": null,
      "outputs": []
    },
    {
      "cell_type": "markdown",
      "source": [
        "Dystans przebyty przez złodzieja $d = 2.5t$"
      ],
      "metadata": {
        "id": "XdKvX00EFMEj"
      }
    },
    {
      "cell_type": "code",
      "source": [
        "d_r = 2.5 * t"
      ],
      "metadata": {
        "id": "T_EIvAqIE62T"
      },
      "execution_count": null,
      "outputs": []
    },
    {
      "cell_type": "markdown",
      "source": [
        "Dystans przebyty przez policjanta $d = 3(t-5)$"
      ],
      "metadata": {
        "id": "Ydex3sSaFeeG"
      }
    },
    {
      "cell_type": "code",
      "source": [
        "d_s = 3 * (t-5)"
      ],
      "metadata": {
        "id": "RlHPgXUwFV_I"
      },
      "execution_count": null,
      "outputs": []
    },
    {
      "cell_type": "markdown",
      "source": [
        "Poniżej tylko plotujemy już rozwiązane przez nas zadanie, znamy wszystkie wyniki"
      ],
      "metadata": {
        "id": "aQzTIPHLGJru"
      }
    },
    {
      "cell_type": "code",
      "source": [
        "#creating matplotlib plot\n",
        "fig, ax = plt.subplots()\n",
        "\n",
        "#creating plot title\n",
        "plt.title('Catch them') \n",
        "\n",
        "#creating x label name\n",
        "plt.xlabel('time in minutes')\n",
        "\n",
        "#creating y label name\n",
        "plt.ylabel('distance in km')\n",
        "\n",
        "#ustalamy limes (lim) czyli granice dla osi x, czyli wartosc na ktorej sie konczy oś x\n",
        "ax.set_xlim([0,40])\n",
        "\n",
        "# ustalamy limes (limes) czyli granice dla y, czyl iwartosc na ktorej konczy sie oś y\n",
        "ax.set_ylim(0,100)\n",
        "\n",
        "# przekazujemy nasze zmienne które mają wyświetlić się na wykresie\n",
        "ax.plot(t, d_r, c='green')\n",
        "ax.plot(t, d_s, c='brown')\n",
        "\n",
        "# Teraz tworzymy linie \n",
        "# Za pomoca axvline (axis vertical line) podajemy miejsce na wykresie w ktorym przebiegac ma linia pozioma\n",
        "plt.axvline(x=30, color='yellow', linestyle='--')\n",
        "\n",
        "# Za omoca axhline (axis horizonta line) punkt na wykresie w ktorym ma przechodzic linia pozioma\n",
        "_ = plt.axhline(y=75, color='yellow', linestyle='--')"
      ],
      "metadata": {
        "colab": {
          "base_uri": "https://localhost:8080/",
          "height": 295
        },
        "id": "qToweCwYFaXu",
        "outputId": "146a29a2-1542-43d7-a300-fb9bf84c33bc"
      },
      "execution_count": null,
      "outputs": [
        {
          "output_type": "display_data",
          "data": {
            "text/plain": [
              "<Figure size 432x288 with 1 Axes>"
            ],
            "image/png": "[encoded data removed]"
          },
          "metadata": {
            "needs_background": "light"
          }
        }
      ]
    },
    {
      "cell_type": "markdown",
      "source": [
        "---\n",
        "#**Exercise 2**\n",
        "\n",
        "##Jil designs solar panels\n",
        "##On April 1st, Jill's project begins generating power: 1 kJ/day\n",
        "##Month after this, his second project begins generating 4 kJ/day \n",
        "\n",
        "1) What day is it when Jill's Mark design has generated as much total energy as the Mark I design\n",
        "\n",
        "2) How much total energy have both generated by that day?\n",
        "\n",
        "3) What would the solutions to 1 and 2 be if Mark design II generated 1Kj of power per day?"
      ],
      "metadata": {
        "id": "lp6K0uA9Is03"
      }
    },
    {
      "cell_type": "markdown",
      "source": [
        "## Rozwiążmy problem a potem wyplotujmy go\n",
        "\n",
        "#####Drugi design ma 30 dni opóźnienia, stąd t-30\n",
        "$1t = 4(t-30)$\n",
        "\n",
        "$1t = 4t - 120$\n",
        "\n",
        "$3t = 120$\n",
        "\n",
        "$t = 40$\n",
        "\n",
        "###**Odpowiedz : 10tego maja drugi design dogoni pierwszy, bo 1wszy marca + 40 dni to 10ty maja**"
      ],
      "metadata": {
        "id": "VglyiQhPFlmp"
      }
    },
    {
      "cell_type": "markdown",
      "source": [
        "Plotujemy to na wykresie"
      ],
      "metadata": {
        "id": "M8MwoOpITPys"
      }
    },
    {
      "cell_type": "code",
      "source": [
        "t = np.linspace(0,50,1000)\n",
        "first_design = t\n",
        "second_design = 4*(t-30)"
      ],
      "metadata": {
        "id": "moCbGgz5Q5ki"
      },
      "execution_count": null,
      "outputs": []
    },
    {
      "cell_type": "code",
      "source": [
        "#creating plot\n",
        "fig, ax = plt.subplots()\n",
        "\n",
        "#creating title and labels names\n",
        "plt.title('Jils Designs')\n",
        "plt.xlabel('date')\n",
        "plt.ylabel('power')\n",
        "\n",
        "\n",
        "#creating limes for labels\n",
        "ax.set_xlim([0,50])\n",
        "ax.set_ylim([0,50])\n",
        "\n",
        "#podstawianie danych pod wykres, mozna wydedukowac odpowiedz po miejscu w ktorym sie stykaja\n",
        "ax.plot(t,first_design, c='green')\n",
        "ax.plot(t,second_design, c='brown')"
      ],
      "metadata": {
        "id": "2Vjh2O5xRYqx",
        "colab": {
          "base_uri": "https://localhost:8080/",
          "height": 312
        },
        "outputId": "193bba17-1106-42f8-bf2f-498bdfc33ca8"
      },
      "execution_count": null,
      "outputs": [
        {
          "output_type": "execute_result",
          "data": {
            "text/plain": [
              "[<matplotlib.lines.Line2D at 0x7f32c62b8f50>]"
            ]
          },
          "metadata": {},
          "execution_count": 49
        },
        {
          "output_type": "display_data",
          "data": {
            "text/plain": [
              "<Figure size 432x288 with 1 Axes>"
            ],
            "image/png": "[encoded data removed]"
          },
          "metadata": {
            "needs_background": "light"
          }
        }
      ]
    },
    {
      "cell_type": "markdown",
      "source": [
        "### 2) How much total energy have both generated by that day?\n",
        "$e = 1t$\n",
        "\n",
        "$e = 4(t-30)$\n",
        "\n",
        "$t=40$\n",
        "\n",
        "$e = 40 kJ$\n",
        "\n",
        "$e = 80 kJ$\n"
      ],
      "metadata": {
        "id": "JuL6ZyTwVN5_"
      }
    }
  ]
}